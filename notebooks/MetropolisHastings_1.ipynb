{
 "cells": [
  {
   "cell_type": "markdown",
   "metadata": {},
   "source": [
    "## Metropolis Hastings Algorithm"
   ]
  },
  {
   "cell_type": "code",
   "execution_count": 32,
   "metadata": {},
   "outputs": [],
   "source": [
    "import pandas as pd\n",
    "import numpy as np\n",
    "import math\n",
    "import pymc3 as pm"
   ]
  },
  {
   "cell_type": "markdown",
   "metadata": {},
   "source": [
    "The dataset is from CSSS-STAT 564 U Washington"
   ]
  },
  {
   "cell_type": "code",
   "execution_count": 16,
   "metadata": {},
   "outputs": [
    {
     "data": {
      "text/plain": [
       "Index(['x', 'y'], dtype='object')"
      ]
     },
     "execution_count": 16,
     "metadata": {},
     "output_type": "execute_result"
    }
   ],
   "source": [
    "df = pd.read_csv('./../data/sparrow.csv',usecols=['age2','fledged'])\n",
    "df =  df.rename(columns = {\n",
    "    'age2':'x','fledged':'y'\n",
    "})\n",
    "df = df[['x','y']]\n",
    "df.columns"
   ]
  },
  {
   "cell_type": "code",
   "execution_count": 17,
   "metadata": {},
   "outputs": [],
   "source": [
    "data = df.values"
   ]
  },
  {
   "cell_type": "markdown",
   "metadata": {},
   "source": [
    "## Poisson distribution : z<sup>k</sup>e<sup>-z</sup> / k!"
   ]
  },
  {
   "cell_type": "markdown",
   "metadata": {},
   "source": [
    "Assumption : \n",
    "### A Poisson regression model can be fitted to find how x and y is related. \n",
    "### Poisson regression model , here is a GLM.\n",
    "\n",
    "y ~ f (b<sub>1</sub> + b<sub>1</sub>x<sup>2</sup> + b<sub>1</sub>x<sub>2</sub>)\n",
    "\n",
    "More specifically,    \n",
    "#### log(E(y<sub>i</sub>| x<sub>i</sub>)) = b<sub>1</sub> + b<sub>1</sub>x<sup>2</sup> + b<sub>1</sub>x<sub>2</sub>\n"
   ]
  },
  {
   "cell_type": "markdown",
   "metadata": {},
   "source": [
    "Prior distribution : b<sub>1</sub>, b<sub>2</sub>, b<sub>3</sub> are i.i.d and ~ N(0,10)"
   ]
  },
  {
   "cell_type": "markdown",
   "metadata": {},
   "source": [
    "###  What can be the choice of generating the next parameter value, given current value being z ?\n",
    " - It should be symmetric\n",
    " - Uniform or Normal works well. U(z-d, u+d) or N(z, d<sup>2</sup>)\n",
    " - d controls \" how far to deviate from current\"\n",
    " - Too small a d, burn in period may be high due to algorithmm being stuck\n",
    " - Too large a d, it may oiscillate"
   ]
  },
  {
   "cell_type": "markdown",
   "metadata": {},
   "source": [
    "-----------------------------\n",
    "# MH algorithm :\n",
    "    \n",
    "-----------------------------\n",
    "1. Sample Z<sup>*</sup> ~ J(Z| Z<sup>(s)</sup>)\n",
    "2. Compute acceptance ratio, r. \n",
    "    \n",
    "r = p(Z<sup>*</sup>|y) / p(Z<sup>(s)</sup>|y) = p(y|Z<sup>*</sup>)p(Z<sup>*</sup>) / p(y|Z<sup>(s)</sup>)p(Z<sup>(s)</sup>)              \n",
    "\n",
    "3. Z<sup>(s+1)</sup> = \n",
    "\n",
    "{  Z<sup>*</sup> probability : min(r,1)\n",
    "\n",
    "{  Z<sup>(s)</sup> probability : 1 - min(r,1)\n",
    "\n",
    "\n"
   ]
  },
  {
   "cell_type": "code",
   "execution_count": 26,
   "metadata": {},
   "outputs": [],
   "source": [
    "y_list = list(data[:,1] + 0.5)\n",
    "y_list = [math.log(_,math.e) for _ in y_list]\n",
    "v1 = np.var(y_list)\n",
    "v2 = np.sum([_*_ for _ in data[:,0]])"
   ]
  },
  {
   "cell_type": "code",
   "execution_count": 44,
   "metadata": {},
   "outputs": [],
   "source": [
    "var_prior = math.sqrt(v1/v2)"
   ]
  },
  {
   "cell_type": "code",
   "execution_count": 45,
   "metadata": {},
   "outputs": [
    {
     "data": {
      "text/plain": [
       "0.007227071257966704"
      ]
     },
     "execution_count": 45,
     "metadata": {},
     "output_type": "execute_result"
    }
   ],
   "source": [
    "var_prior"
   ]
  },
  {
   "cell_type": "code",
   "execution_count": 46,
   "metadata": {},
   "outputs": [],
   "source": [
    "num_iterations = 10000"
   ]
  },
  {
   "cell_type": "code",
   "execution_count": 93,
   "metadata": {},
   "outputs": [],
   "source": [
    "def get_new_beta(old_beta):\n",
    "    global var_prior\n",
    "    with pm.Model() as model:\n",
    "        Z_cov = np.array([\n",
    "            [var_prior, 0   , 0], \n",
    "            [0   , var_prior, 0],\n",
    "            [0   , 0, var_prior]\n",
    "        ])\n",
    "        Z_mu = old_beta\n",
    "        beta_prior_mv_normal = pm.MvNormal(\n",
    "            'vals', \n",
    "            mu = old_beta, \n",
    "            cov = Z_cov,\n",
    "            shape=[1,3]\n",
    "        )\n",
    "    return np.array(beta_prior_mv_normal.random())"
   ]
  },
  {
   "cell_type": "code",
   "execution_count": 94,
   "metadata": {},
   "outputs": [],
   "source": [
    "beta = np.array([0,0,0])\n",
    "\n",
    "mu = [0,0,0]\n",
    "sd = np.array([\n",
    "    [10, 0, 0],\n",
    "    [ 0,10, 0],\n",
    "    [ 0, 0,10]\n",
    "])\n",
    "\n",
    "with pm.Model():\n",
    "    un = pm.Uniform('u',0,1)\n",
    "list_beta = []"
   ]
  },
  {
   "cell_type": "code",
   "execution_count": null,
   "metadata": {},
   "outputs": [],
   "source": [
    "for _ in range(num_iterations):\n",
    "    beta_p = get_new_beta(beta)\n",
    "    # Calculate the acceptance ratio\n",
    "    p1 = 0\n",
    "    p2 = 0\n",
    "    p3 = 0\n",
    "    p4 = 0\n",
    "    for x,y in zip(data[:,0],data[:,1]):\n",
    "        X = np.array([1,x,x*x])\n",
    "        X_beta_new = np.dot(X,beta_p)\n",
    "        X_beta_old = np.dot(X,beta)\n",
    "        with pm.Model():\n",
    "            dist1 = pm.Poisson('x1', mu=X_beta_new)\n",
    "            p1 += dist1.logp({'x1':y})\n",
    "        with pm.Model():\n",
    "            dist2 = pm.Poisson('x2', mu=X_beta_old)\n",
    "            p2 += dist2.logp({'x2':y})\n",
    "            \n",
    "        with pm.Model():\n",
    "            dist3 = pm.MvNormal(\n",
    "                'x3', \n",
    "                mu = mu, \n",
    "                cov = sd,\n",
    "                shape=3\n",
    "            )\n",
    "            _ = dist3.logp({'x3':beta_p})\n",
    "            p3 += _\n",
    "            \n",
    "        \n",
    "        with pm.Model():\n",
    "            dist4 = pm.MvNormal(\n",
    "                'x4', \n",
    "                mu = mu, \n",
    "                cov = sd,\n",
    "                shape=3\n",
    "            )\n",
    "            _ = dist4.logp({'x4':beta})\n",
    "            p4 += _\n",
    "    r = p1 - p2 + p3 -p4\n",
    "    if un.random() < r :\n",
    "        beta = beta_p\n",
    "        \n",
    "    list_beta.append(beta)\n",
    "    \n",
    "        \n",
    "            "
   ]
  },
  {
   "cell_type": "code",
   "execution_count": 92,
   "metadata": {},
   "outputs": [
    {
     "name": "stdout",
     "output_type": "stream",
     "text": [
      "[-0.03534251  1.16676412]\n"
     ]
    }
   ],
   "source": []
  },
  {
   "cell_type": "code",
   "execution_count": 65,
   "metadata": {},
   "outputs": [
    {
     "name": "stdout",
     "output_type": "stream",
     "text": [
      "0.4380987068816343\n"
     ]
    }
   ],
   "source": []
  },
  {
   "cell_type": "code",
   "execution_count": null,
   "metadata": {},
   "outputs": [],
   "source": []
  }
 ],
 "metadata": {
  "kernelspec": {
   "display_name": "Python 3",
   "language": "python",
   "name": "python3"
  },
  "language_info": {
   "codemirror_mode": {
    "name": "ipython",
    "version": 3
   },
   "file_extension": ".py",
   "mimetype": "text/x-python",
   "name": "python",
   "nbconvert_exporter": "python",
   "pygments_lexer": "ipython3",
   "version": "3.6.8"
  }
 },
 "nbformat": 4,
 "nbformat_minor": 4
}
